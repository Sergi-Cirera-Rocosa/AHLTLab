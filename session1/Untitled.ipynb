{
 "cells": [
  {
   "cell_type": "code",
   "execution_count": 1,
   "metadata": {},
   "outputs": [],
   "source": [
    "import nltk\n",
    "from dom.minidom import parse\n",
    "from os import listdir, system"
   ]
  },
  {
   "cell_type": "code",
   "execution_count": 50,
   "metadata": {},
   "outputs": [],
   "source": [
    "datadir ='data/train'\n",
    "drug_set = set()\n",
    "drug_n_set = set()\n",
    "brand_set = set()\n",
    "group_set = set()\n",
    "\n",
    "# process each file in input directory\n",
    "for f in listdir(datadir) :\n",
    "\n",
    "    # parse XML file, obtaining a DOM tree\n",
    "    tree = parse(datadir+\"/\"+f)\n",
    "\n",
    "    # process each sentence in the file\n",
    "    sentences = tree.getElementsByTagName(\"entity\")\n",
    "    for s in sentences :\n",
    "        sid = s.attributes[\"id\"].value   # get sentence id\n",
    "        text = s.attributes[\"text\"].value   # get sentence text\n",
    "        tag = s.attributes[\"type\"].value\n",
    "        if tag == 'drug':\n",
    "            drug_set.add(text)\n",
    "        if tag == 'drug_n':\n",
    "            drug_n_set.add(text)\n",
    "        if tag == 'brand':\n",
    "            brand_set.add(text)\n",
    "        if tag == 'group':\n",
    "            group_set.add(text)"
   ]
  },
  {
   "cell_type": "code",
   "execution_count": 9,
   "metadata": {},
   "outputs": [],
   "source": [
    "datadir2 ='data/devel'\n",
    "drug_n_set2 = set()\n",
    "# process each file in input directory\n",
    "for f in listdir(datadir2) :\n",
    "\n",
    "    # parse XML file, obtaining a DOM tree\n",
    "    tree = parse(datadir2+\"/\"+f)\n",
    "\n",
    "    # process each sentence in the file\n",
    "    sentences = tree.getElementsByTagName(\"entity\")\n",
    "    for s in sentences :\n",
    "        sid = s.attributes[\"id\"].value   # get sentence id\n",
    "        text = s.attributes[\"text\"].value   # get sentence text\n",
    "        tag = s.attributes[\"type\"].value\n",
    "        if tag == 'drug_n':\n",
    "            drug_n_set2.add(text)"
   ]
  },
  {
   "cell_type": "code",
   "execution_count": 49,
   "metadata": {},
   "outputs": [
    {
     "name": "stdout",
     "output_type": "stream",
     "text": [
      "{'gelusil', 'Maalox TC', 'Thorazine', 'BUSULFEX', 'TRISENOX', 'Medrol', 'SUBOXONE', 'Gantanol', 'HUMIRA', 'Cefizox', 'Marplan', 'LEVSIN', 'Prozac', 'DIDREX', 'Leukine', 'Naprosyn', 'ALLEGRA', 'ZYVOX', 'ZOLADEX', 'Orasone', 'aspirin', 'Kadian', 'PRINIVIL', 'Plenaxis', 'Purinethol', 'Antizol', 'NIZORAL', 'ZERIT', 'Advil', 'Lovenox', 'COPEGUS', 'Hydrodiuril', 'Magan', 'Cytadren', 'AVONEX', 'Permax', 'Adenocard', 'ELSPAR', 'VISTIDE', 'UROXATRAL', 'Rifadin', 'Septra', 'REVLIMID', 'Methergine', 'Sporanox', 'BARACLUDE', 'Pulmozyme', 'ERGOMAR', 'Zofran', 'Zmax', 'VAPRISOL', 'Pediapred', 'Neulasta', 'ENBREL', 'Tegretol', 'Invirase', 'Ponstel', 'Geocillin', 'sandimmune', 'ProSom', 'TYKERB', 'Zarontin', 'Femara', 'Gris-PEG', 'EULEXIN', 'ZADAXIN', 'Omniscan', 'MONUROL', 'DITROPAN XL', 'Soliris', 'Trecator', 'Cerebyx', 'HERCEPTIN', 'TRANXENE', 'COLAZAL', 'Gleevec', 'ZETIA', 'NovoSeven', 'Bezalip retard', 'Oruvail', 'Cataflam', 'IOPIDINE', 'Posicor', 'Disalcid', 'LEUSTATIN', 'Nimotop', 'TEMODAR', 'Parnate', 'Sectral', 'INOmax', 'Viagra', 'Orudis', 'VERSED Syrup', 'Prolixin', 'Topamax', 'IRESSA', 'Phenergan', 'TOLECTIN', 'Theo-Dur', 'Anaprox', 'Trilisate', 'Sensipar', 'Permitil', 'Prostigmin', 'Norvir', 'Chloromycetin', 'PROCRIT', 'Targretin', 'Crixivan', 'Pepto-Bismol', 'Antabuse', 'TRACLEER', 'Mentax', 'Aranesp', 'AMERGE', 'Eldepryl', 'ZINECARD', 'Celexa', 'LEVULAN KERASTICK', 'Natrecor', 'DOXIL', 'NEUPOGEN', 'Xigris', 'Coumadin', 'Nizoral', 'OMNICEF', 'ROMAZICON', 'Ultram', 'ORENCIA', 'Kytril', 'Bactrim', 'REGRANEX', 'VESIcare', 'Dantrium', 'Lopressor', 'FLUDARA', 'WelChol', 'Aleve', 'PROPECIA', 'IMITREX', 'LODOSYN', 'REMICADE', 'VUMON', 'TAXOL', 'Starlix', 'Neoral', 'FLEXERIL', 'Compazine', 'ATACAND', 'Soriatane', 'Survanta', 'Nydrazid', 'NovoLog', 'ACEON', 'Robinul', 'DIFFERIN', 'PEGASYS', 'Voltaren', 'Atromid-S', 'Zemplar', 'LEXAPRO', 'NORVIR', 'Lodine', 'ZEVALIN', 'Imuran', 'Deltasone', 'Rifamate', 'Gantrisin', 'TORADOL', 'Lipitor', 'INAPSINE', 'SUBUTEX', 'BREVIBLOC', 'VIDEX', 'Trecator-SC', 'MEXITIL', 'Matulane', 'Penthrane', 'EVISTA', 'Prostin VR Pediatric', 'AVASTIN', 'FLUOTHANE', 'TOBI', 'Aspirin', 'Lotensin', 'PULMOZYME', 'EQUETROTM', 'Solganal', 'TYSABRI', 'STADOL NS', 'REMERON', 'SYNAREL', 'PROSTIN E2', 'Activase', 'Vitrasert', 'Ocupress', 'PROSCAR', 'Nardil', 'Depen', 'MEVACOR', 'PROLEUKIN', 'Ritalin', 'Ortho-Novum', 'Relafen', 'DOSTINEX', 'Cerezyme', 'Streptase', 'ZEBETA', 'EMCYT', 'Keppra', 'ZEMURON', 'VIOXX', 'Calan SR', 'TAMBOCOR', 'LAMISIL', 'MIVACRON', 'Inderal', 'Diuril', 'Maalox', 'AKINETON', 'Vidaza', 'Sonata', 'TARCEVA', 'SULAR', 'FACTIVE', 'DURAGESIC', 'INSPRA', 'Pletal', 'GABITRIL', 'ALKERAN', 'ENABLEX', 'FROVA', 'REMERON SolTab', 'AUGMENTIN XR', 'Imitrex', 'REFLUDAN', 'Bezalip', 'co-trimoxazole', 'Felbatol', 'CEFOTAN', 'NUROMAX', 'Alupent', 'Rocaltrol', 'PIPRACIL', 'TABLOID', 'MYCAMINE', 'Tagamet', 'SPRYCEL', 'Seroquel', 'Desyrel', 'Agenerase', 'Exelon', 'Cetrotide', 'ERGAMISOL', 'HEMABATE', 'NIMBEX', 'Mylotarg', 'Factrel', 'TRICOR', 'MEPRON', 'Kineret', 'Keflex', 'ZIAGEN', 'rifadin', 'INVEGA', 'Implanon', 'Myochrysine', 'Trileptal', 'Kaletra', 'Astramorph', 'Sanctura', 'Retavase', 'ALIMTA', 'Tiazac', 'DILAUDID', 'INDOCIN', 'EDECRIN', 'HEXALEN', 'Prelone', 'Indocin', 'AMEVIVE', 'FELDENE', 'PLETAL', 'ERBITUX', 'Caverject', 'Nalfon', 'TNKase', 'BOTOX', 'EXTRANEAL', 'PERSANTINE', 'MYKROX', 'Angiomax', 'Mexitil', 'KEMSTRO', 'SKELAXIN', 'CANCIDAS', 'PEG-Intron', 'PURINETHOL', 'AXERT', 'DIAMOX', 'Aricept', 'EMTRIVA', 'Sandimmune', 'VELCADE', 'MS Contin', 'MICRONASE', 'Viracept', 'Motrin', 'Pronestyl', 'Dilantin', 'Anafranil', 'METROGEL', 'TRENTAL', 'Betaseron', 'Cuprimine', 'Tylenol', 'Levo-Dromoran', 'DETROL LA', 'KEMSTROTM', 'Daypro', 'ZAVESCA', 'Azulfidine', 'BROVANA', 'Celontin', 'WELLBUTRIN', 'ELLENCE', 'Nuprin', 'ETHYOL', 'Neurontin', 'ZOLINZA', 'Tilade', 'Tenormin', 'D.H.E. 45', 'ZANOSAR', 'Lamprene', 'Fortovase', 'Videx', 'COPAXONE', 'ELDEPRYL', 'CASODEX', 'Orudis KT', 'SPIRIVA'}\n"
     ]
    }
   ],
   "source": [
    "print(brand_set)"
   ]
  }
 ],
 "metadata": {
  "kernelspec": {
   "display_name": "Python 3",
   "language": "python",
   "name": "python3"
  },
  "language_info": {
   "codemirror_mode": {
    "name": "ipython",
    "version": 3
   },
   "file_extension": ".py",
   "mimetype": "text/x-python",
   "name": "python",
   "nbconvert_exporter": "python",
   "pygments_lexer": "ipython3",
   "version": "3.6.8"
  }
 },
 "nbformat": 4,
 "nbformat_minor": 4
}
