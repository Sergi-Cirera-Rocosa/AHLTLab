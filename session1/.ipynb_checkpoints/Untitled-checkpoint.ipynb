{
 "cells": [
  {
   "cell_type": "code",
   "execution_count": 1,
   "metadata": {},
   "outputs": [],
   "source": [
    "import nltk\n",
    "from dom.minidom import parse\n"
   ]
  },
  {
   "cell_type": "code",
   "execution_count": null,
   "metadata": {},
   "outputs": [],
   "source": [
    "data_path ='data/train'"
   ]
  },
  {
   "cell_type": "code",
   "execution_count": null,
   "metadata": {},
   "outputs": [],
   "source": [
    "# process each file in input directory\n",
    "for f in listdir(datadir) :\n",
    "\n",
    "    # parse XML file, obtaining a DOM tree\n",
    "    tree = parse(datadir+\"/\"+f)\n",
    "\n",
    "    # process each sentence in the file\n",
    "    sentences = tree.getElementsByTagName(\"sentence\")\n",
    "    for s in sentences :\n",
    "        sid = s.attributes[\"id\"].value   # get sentence id\n",
    "        stext = s.attributes[\"text\"].value   # get sentence text\n",
    "\n",
    "        # extract entities in text\n",
    "        entities = extract_entities(stext)\n",
    "        #return_desired_entities(entities, 'drug_n')\n",
    "\n",
    "        # print sentence entities in format requested for evaluation\n"
   ]
  }
 ],
 "metadata": {
  "kernelspec": {
   "display_name": "Python 3",
   "language": "python",
   "name": "python3"
  },
  "language_info": {
   "codemirror_mode": {
    "name": "ipython",
    "version": 3
   },
   "file_extension": ".py",
   "mimetype": "text/x-python",
   "name": "python",
   "nbconvert_exporter": "python",
   "pygments_lexer": "ipython3",
   "version": "3.6.8"
  }
 },
 "nbformat": 4,
 "nbformat_minor": 4
}
